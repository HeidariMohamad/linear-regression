{
 "cells": [
  {
   "cell_type": "code",
   "execution_count": null,
   "id": "769397db",
   "metadata": {},
   "outputs": [
    {
     "ename": "",
     "evalue": "",
     "output_type": "error",
     "traceback": [
      "\u001b[1;31mThe kernel failed to start as the Python Environment 'Python 3.13.3' is no longer available. Consider selecting another kernel or refreshing the list of Python Environments."
     ]
    }
   ],
   "source": [
    "import torch\n",
    "from torch import nn\n",
    "import matplotlib.pyplot as plt"
   ]
  },
  {
   "cell_type": "code",
   "execution_count": 116,
   "id": "2585c483",
   "metadata": {},
   "outputs": [
    {
     "name": "stdout",
     "output_type": "stream",
     "text": [
      "System stats\n",
      "2.7.1+cu128\n",
      "device: cuda\n"
     ]
    }
   ],
   "source": [
    "print(f\"System stats\")\n",
    "print(torch.__version__)\n",
    "device = \"cuda\" if(torch.cuda.is_available()) else \"cpu\"\n",
    "print(f\"device: {device}\")"
   ]
  },
  {
   "cell_type": "code",
   "execution_count": 117,
   "id": "2935c7b6",
   "metadata": {},
   "outputs": [],
   "source": [
    "#Create data\n",
    "weight=.3\n",
    "bias=.8\n",
    "X=torch.arange(1,1000,10).unsqueeze(dim=1).float()\n",
    "y=X*weight+bias"
   ]
  },
  {
   "cell_type": "code",
   "execution_count": 118,
   "id": "2ab339da",
   "metadata": {},
   "outputs": [
    {
     "name": "stdout",
     "output_type": "stream",
     "text": [
      "dataset stats\n",
      " Number of train: 80 \n",
      " Number of test 20 \n",
      " Total: 100\n"
     ]
    }
   ],
   "source": [
    "#split training and testing data\n",
    "x_train,y_train=X[:int(len(X)*.8)],y[:int(len(X)*.8)]\n",
    "x_test,y_test=X[int(len(X)*.8):],y[int(len(X)*.8):]\n",
    "print(f\"dataset stats\\n Number of train: {len(x_train)} \\n Number of test {len(x_test)} \\n Total: {len(X)}\")"
   ]
  },
  {
   "cell_type": "code",
   "execution_count": 119,
   "id": "6acf859c",
   "metadata": {},
   "outputs": [
    {
     "data": {
      "text/plain": [
       "<matplotlib.legend.Legend at 0x7371d1eeb250>"
      ]
     },
     "execution_count": 119,
     "metadata": {},
     "output_type": "execute_result"
    },
    {
     "data": {
      "image/png": "[encoded data removed]",
      "text/plain": [
       "<Figure size 1500x800 with 1 Axes>"
      ]
     },
     "metadata": {},
     "output_type": "display_data"
    }
   ],
   "source": [
    "plt.figure(figsize=(15,8))\n",
    "plt.scatter(x_train,y_train,c=\"blue\",s=4,label=\"train\")\n",
    "plt.scatter(x_test,y_test,c=\"orange\",s=4,label=\"test\")\n",
    "plt.legend(prop={\"size\":15})\n"
   ]
  },
  {
   "cell_type": "code",
   "execution_count": 120,
   "id": "367c967f",
   "metadata": {},
   "outputs": [
    {
     "data": {
      "text/plain": [
       "(linearlayermodel(\n",
       "   (linear_layer): Linear(in_features=1, out_features=1, bias=True)\n",
       " ),\n",
       " OrderedDict([('linear_layer.weight', tensor([[0.7645]])),\n",
       "              ('linear_layer.bias', tensor([0.8300]))]))"
      ]
     },
     "execution_count": 120,
     "metadata": {},
     "output_type": "execute_result"
    }
   ],
   "source": [
    "class linearlayermodel(nn.Module):\n",
    "    def __init__(self):\n",
    "        super().__init__()\n",
    "        self.linear_layer=nn.Linear(in_features=1,\n",
    "           \n",
    "                               out_features=1)\n",
    "    def forward(self,X:torch.Tensor):\n",
    "        return self.linear_layer(X)\n",
    "\n",
    "model_1=linearlayermodel()\n",
    "model_1,model_1.state_dict()"
   ]
  },
  {
   "cell_type": "code",
   "execution_count": 121,
   "id": "2aaac77a",
   "metadata": {},
   "outputs": [
    {
     "name": "stdout",
     "output_type": "stream",
     "text": [
      "cpu\n",
      "cpu\n"
     ]
    }
   ],
   "source": [
    "print(list(model_1.parameters())[0].device)\n",
    "\n",
    "print(next(model_1.parameters()).device)"
   ]
  },
  {
   "cell_type": "code",
   "execution_count": 122,
   "id": "8cb107d2",
   "metadata": {},
   "outputs": [
    {
     "data": {
      "text/plain": [
       "device(type='cuda', index=0)"
      ]
     },
     "execution_count": 122,
     "metadata": {},
     "output_type": "execute_result"
    }
   ],
   "source": [
    "model_1.to(device)\n",
    "next(model_1.parameters()).device"
   ]
  },
  {
   "cell_type": "code",
   "execution_count": 123,
   "id": "891c0d25",
   "metadata": {},
   "outputs": [],
   "source": [
    "loss_fn=nn.L1Loss()\n",
    "optimizer = torch.optim.SGD(params=model_1.parameters(), lr=0.000001)\n",
    "#loss_fn=nn.MSELoss()\n"
   ]
  },
  {
   "cell_type": "code",
   "execution_count": 124,
   "id": "a2ecd2fb",
   "metadata": {},
   "outputs": [
    {
     "data": {
      "text/plain": [
       "<torch._C.Generator at 0x73729bb2d990>"
      ]
     },
     "execution_count": 124,
     "metadata": {},
     "output_type": "execute_result"
    }
   ],
   "source": [
    "torch.manual_seed(42)\n"
   ]
  },
  {
   "cell_type": "code",
   "execution_count": 125,
   "id": "ea39ea59",
   "metadata": {},
   "outputs": [
    {
     "name": "stdout",
     "output_type": "stream",
     "text": [
      "Epoch: 0 | Train loss: 183.98726 | Test loss: 415.90170\n",
      "Epoch: 10 | Train loss: 182.41904 | Test loss: 412.35336\n",
      "Epoch: 20 | Train loss: 180.85081 | Test loss: 408.80515\n",
      "Epoch: 30 | Train loss: 179.28259 | Test loss: 405.25684\n",
      "Epoch: 40 | Train loss: 177.71436 | Test loss: 401.70853\n",
      "Epoch: 50 | Train loss: 176.14616 | Test loss: 398.16025\n",
      "Epoch: 60 | Train loss: 174.57793 | Test loss: 394.61197\n",
      "Epoch: 70 | Train loss: 173.00970 | Test loss: 391.06369\n",
      "Epoch: 80 | Train loss: 171.44148 | Test loss: 387.51538\n",
      "Epoch: 90 | Train loss: 169.87328 | Test loss: 383.96710\n",
      "Epoch: 100 | Train loss: 168.30504 | Test loss: 380.41879\n",
      "Epoch: 110 | Train loss: 166.73682 | Test loss: 376.87051\n",
      "Epoch: 120 | Train loss: 165.16859 | Test loss: 373.32224\n",
      "Epoch: 130 | Train loss: 163.60037 | Test loss: 369.77396\n",
      "Epoch: 140 | Train loss: 162.03215 | Test loss: 366.22565\n",
      "Epoch: 150 | Train loss: 160.46391 | Test loss: 362.67737\n",
      "Epoch: 160 | Train loss: 158.89569 | Test loss: 359.12909\n",
      "Epoch: 170 | Train loss: 157.32750 | Test loss: 355.58078\n",
      "Epoch: 180 | Train loss: 155.75926 | Test loss: 352.03250\n",
      "Epoch: 190 | Train loss: 154.19102 | Test loss: 348.48422\n",
      "Epoch: 200 | Train loss: 152.62280 | Test loss: 344.93591\n",
      "Epoch: 210 | Train loss: 151.05460 | Test loss: 341.38766\n",
      "Epoch: 220 | Train loss: 149.48637 | Test loss: 337.83936\n",
      "Epoch: 230 | Train loss: 147.91814 | Test loss: 334.29108\n",
      "Epoch: 240 | Train loss: 146.34991 | Test loss: 330.74277\n",
      "Epoch: 250 | Train loss: 144.78169 | Test loss: 327.19449\n",
      "Epoch: 260 | Train loss: 143.21349 | Test loss: 323.64621\n",
      "Epoch: 270 | Train loss: 141.64525 | Test loss: 320.09790\n",
      "Epoch: 280 | Train loss: 140.07703 | Test loss: 316.54962\n",
      "Epoch: 290 | Train loss: 138.50882 | Test loss: 313.00131\n",
      "Epoch: 300 | Train loss: 136.94058 | Test loss: 309.45303\n",
      "Epoch: 310 | Train loss: 135.37236 | Test loss: 305.90475\n",
      "Epoch: 320 | Train loss: 133.80412 | Test loss: 302.35645\n",
      "Epoch: 330 | Train loss: 132.23592 | Test loss: 298.80817\n",
      "Epoch: 340 | Train loss: 130.66768 | Test loss: 295.25986\n",
      "Epoch: 350 | Train loss: 129.09947 | Test loss: 291.71158\n",
      "Epoch: 360 | Train loss: 127.53125 | Test loss: 288.16330\n",
      "Epoch: 370 | Train loss: 125.96303 | Test loss: 284.61502\n",
      "Epoch: 380 | Train loss: 124.39480 | Test loss: 281.06671\n",
      "Epoch: 390 | Train loss: 122.82659 | Test loss: 277.51843\n",
      "Epoch: 400 | Train loss: 121.25835 | Test loss: 273.97015\n",
      "Epoch: 410 | Train loss: 119.69014 | Test loss: 270.42184\n",
      "Epoch: 420 | Train loss: 118.12190 | Test loss: 266.87357\n",
      "Epoch: 430 | Train loss: 116.55369 | Test loss: 263.32529\n",
      "Epoch: 440 | Train loss: 114.98547 | Test loss: 259.77701\n",
      "Epoch: 450 | Train loss: 113.41724 | Test loss: 256.22873\n",
      "Epoch: 460 | Train loss: 111.84902 | Test loss: 252.68040\n",
      "Epoch: 470 | Train loss: 110.28080 | Test loss: 249.13211\n",
      "Epoch: 480 | Train loss: 108.71258 | Test loss: 245.58382\n",
      "Epoch: 490 | Train loss: 107.14435 | Test loss: 242.03552\n",
      "Epoch: 500 | Train loss: 105.57613 | Test loss: 238.48726\n",
      "Epoch: 510 | Train loss: 104.00791 | Test loss: 234.93896\n",
      "Epoch: 520 | Train loss: 102.43967 | Test loss: 231.39067\n",
      "Epoch: 530 | Train loss: 100.87146 | Test loss: 227.84239\n",
      "Epoch: 540 | Train loss: 99.30325 | Test loss: 224.29410\n",
      "Epoch: 550 | Train loss: 97.73502 | Test loss: 220.74580\n",
      "Epoch: 560 | Train loss: 96.16680 | Test loss: 217.19751\n",
      "Epoch: 570 | Train loss: 94.59857 | Test loss: 213.64922\n",
      "Epoch: 580 | Train loss: 93.03036 | Test loss: 210.10094\n",
      "Epoch: 590 | Train loss: 91.46213 | Test loss: 206.55264\n",
      "Epoch: 600 | Train loss: 89.89391 | Test loss: 203.00435\n",
      "Epoch: 610 | Train loss: 88.32568 | Test loss: 199.45607\n",
      "Epoch: 620 | Train loss: 86.75746 | Test loss: 195.90778\n",
      "Epoch: 630 | Train loss: 85.18923 | Test loss: 192.35950\n",
      "Epoch: 640 | Train loss: 83.62101 | Test loss: 188.81120\n",
      "Epoch: 650 | Train loss: 82.05279 | Test loss: 185.26292\n",
      "Epoch: 660 | Train loss: 80.48457 | Test loss: 181.71463\n",
      "Epoch: 670 | Train loss: 78.91634 | Test loss: 178.16634\n",
      "Epoch: 680 | Train loss: 77.34812 | Test loss: 174.61804\n",
      "Epoch: 690 | Train loss: 75.77990 | Test loss: 171.06975\n",
      "Epoch: 700 | Train loss: 74.21168 | Test loss: 167.52147\n",
      "Epoch: 710 | Train loss: 72.64346 | Test loss: 163.97319\n",
      "Epoch: 720 | Train loss: 71.07523 | Test loss: 160.42488\n",
      "Epoch: 730 | Train loss: 69.50701 | Test loss: 156.87660\n",
      "Epoch: 740 | Train loss: 67.93878 | Test loss: 153.32832\n",
      "Epoch: 750 | Train loss: 66.37056 | Test loss: 149.78003\n",
      "Epoch: 760 | Train loss: 64.80234 | Test loss: 146.23174\n",
      "Epoch: 770 | Train loss: 63.23412 | Test loss: 142.68346\n",
      "Epoch: 780 | Train loss: 61.66589 | Test loss: 139.13516\n",
      "Epoch: 790 | Train loss: 60.09767 | Test loss: 135.58687\n",
      "Epoch: 800 | Train loss: 58.52945 | Test loss: 132.03857\n",
      "Epoch: 810 | Train loss: 56.96123 | Test loss: 128.49028\n",
      "Epoch: 820 | Train loss: 55.39301 | Test loss: 124.94201\n",
      "Epoch: 830 | Train loss: 53.82478 | Test loss: 121.39370\n",
      "Epoch: 840 | Train loss: 52.25656 | Test loss: 117.84542\n",
      "Epoch: 850 | Train loss: 50.68834 | Test loss: 114.29713\n",
      "Epoch: 860 | Train loss: 49.12011 | Test loss: 110.74884\n",
      "Epoch: 870 | Train loss: 47.55189 | Test loss: 107.20056\n",
      "Epoch: 880 | Train loss: 45.98367 | Test loss: 103.65228\n",
      "Epoch: 890 | Train loss: 44.41545 | Test loss: 100.10398\n",
      "Epoch: 900 | Train loss: 42.84723 | Test loss: 96.55569\n",
      "Epoch: 910 | Train loss: 41.27900 | Test loss: 93.00741\n",
      "Epoch: 920 | Train loss: 39.71078 | Test loss: 89.45911\n",
      "Epoch: 930 | Train loss: 38.14256 | Test loss: 85.91082\n",
      "Epoch: 940 | Train loss: 36.57433 | Test loss: 82.36254\n",
      "Epoch: 950 | Train loss: 35.00611 | Test loss: 78.81425\n",
      "Epoch: 960 | Train loss: 33.43789 | Test loss: 75.26595\n",
      "Epoch: 970 | Train loss: 31.86967 | Test loss: 71.71767\n",
      "Epoch: 980 | Train loss: 30.30144 | Test loss: 68.16937\n",
      "Epoch: 990 | Train loss: 28.73322 | Test loss: 64.62109\n",
      "Epoch: 1000 | Train loss: 27.16500 | Test loss: 61.07280\n",
      "Epoch: 1010 | Train loss: 25.59677 | Test loss: 57.52451\n",
      "Epoch: 1020 | Train loss: 24.02855 | Test loss: 53.97622\n",
      "Epoch: 1030 | Train loss: 22.46033 | Test loss: 50.42793\n",
      "Epoch: 1040 | Train loss: 20.89211 | Test loss: 46.87964\n",
      "Epoch: 1050 | Train loss: 19.32388 | Test loss: 43.33136\n",
      "Epoch: 1060 | Train loss: 17.75566 | Test loss: 39.78306\n",
      "Epoch: 1070 | Train loss: 16.18744 | Test loss: 36.23479\n",
      "Epoch: 1080 | Train loss: 14.61921 | Test loss: 32.68649\n",
      "Epoch: 1090 | Train loss: 13.05099 | Test loss: 29.13820\n",
      "Epoch: 1100 | Train loss: 11.48277 | Test loss: 25.58990\n",
      "Epoch: 1110 | Train loss: 9.91455 | Test loss: 22.04162\n",
      "Epoch: 1120 | Train loss: 8.34632 | Test loss: 18.49333\n",
      "Epoch: 1130 | Train loss: 6.77810 | Test loss: 14.94504\n",
      "Epoch: 1140 | Train loss: 5.20988 | Test loss: 11.39675\n",
      "Epoch: 1150 | Train loss: 3.64166 | Test loss: 7.84846\n",
      "Epoch: 1160 | Train loss: 2.07343 | Test loss: 4.30018\n",
      "Epoch: 1170 | Train loss: 0.50521 | Test loss: 0.75189\n",
      "Epoch: 1180 | Train loss: 0.13351 | Test loss: 0.01638\n",
      "Epoch: 1190 | Train loss: 0.14480 | Test loss: 0.00792\n",
      "Epoch: 1200 | Train loss: 0.10110 | Test loss: 0.08944\n",
      "Epoch: 1210 | Train loss: 0.11820 | Test loss: 0.05168\n",
      "Epoch: 1220 | Train loss: 0.13222 | Test loss: 0.01937\n",
      "Epoch: 1230 | Train loss: 0.14350 | Test loss: 0.00494\n",
      "Epoch: 1240 | Train loss: 0.13400 | Test loss: 0.01525\n",
      "Epoch: 1250 | Train loss: 0.13756 | Test loss: 0.00868\n",
      "Epoch: 1260 | Train loss: 0.11212 | Test loss: 0.06390\n",
      "Epoch: 1270 | Train loss: 0.12691 | Test loss: 0.03160\n",
      "Epoch: 1280 | Train loss: 0.13957 | Test loss: 0.00408\n",
      "Epoch: 1290 | Train loss: 0.11558 | Test loss: 0.05770\n",
      "Epoch: 1300 | Train loss: 0.12960 | Test loss: 0.02539\n",
      "Epoch: 1310 | Train loss: 0.14157 | Test loss: 0.00167\n",
      "Epoch: 1320 | Train loss: 0.12400 | Test loss: 0.03832\n",
      "Epoch: 1330 | Train loss: 0.13734 | Test loss: 0.00921\n",
      "Epoch: 1340 | Train loss: 0.11839 | Test loss: 0.05124\n",
      "Epoch: 1350 | Train loss: 0.13241 | Test loss: 0.01893\n",
      "Epoch: 1360 | Train loss: 0.14369 | Test loss: 0.00537\n",
      "Epoch: 1370 | Train loss: 0.12681 | Test loss: 0.03185\n",
      "Epoch: 1380 | Train loss: 0.13946 | Test loss: 0.00434\n",
      "Epoch: 1390 | Train loss: 0.12120 | Test loss: 0.04477\n",
      "Epoch: 1400 | Train loss: 0.13522 | Test loss: 0.01406\n",
      "Epoch: 1410 | Train loss: 0.11559 | Test loss: 0.05769\n",
      "Epoch: 1420 | Train loss: 0.12961 | Test loss: 0.02538\n",
      "Epoch: 1430 | Train loss: 0.14158 | Test loss: 0.00167\n",
      "Epoch: 1440 | Train loss: 0.12401 | Test loss: 0.03830\n",
      "Epoch: 1450 | Train loss: 0.13735 | Test loss: 0.00919\n",
      "Epoch: 1460 | Train loss: 0.11840 | Test loss: 0.05123\n",
      "Epoch: 1470 | Train loss: 0.13242 | Test loss: 0.01891\n",
      "Epoch: 1480 | Train loss: 0.14370 | Test loss: 0.00539\n",
      "Epoch: 1490 | Train loss: 0.12682 | Test loss: 0.03184\n",
      "Epoch: 1500 | Train loss: 0.13947 | Test loss: 0.00433\n",
      "Epoch: 1510 | Train loss: 0.12121 | Test loss: 0.04476\n",
      "Epoch: 1520 | Train loss: 0.13524 | Test loss: 0.01405\n",
      "Epoch: 1530 | Train loss: 0.11560 | Test loss: 0.05768\n",
      "Epoch: 1540 | Train loss: 0.12962 | Test loss: 0.02537\n",
      "Epoch: 1550 | Train loss: 0.14159 | Test loss: 0.00168\n",
      "Epoch: 1560 | Train loss: 0.12402 | Test loss: 0.03829\n",
      "Epoch: 1570 | Train loss: 0.13736 | Test loss: 0.00918\n",
      "Epoch: 1580 | Train loss: 0.11841 | Test loss: 0.05121\n",
      "Epoch: 1590 | Train loss: 0.13243 | Test loss: 0.01890\n",
      "Epoch: 1600 | Train loss: 0.14371 | Test loss: 0.00540\n",
      "Epoch: 1610 | Train loss: 0.12683 | Test loss: 0.03182\n",
      "Epoch: 1620 | Train loss: 0.13948 | Test loss: 0.00432\n",
      "Epoch: 1630 | Train loss: 0.12122 | Test loss: 0.04475\n",
      "Epoch: 1640 | Train loss: 0.13524 | Test loss: 0.01404\n",
      "Epoch: 1650 | Train loss: 0.11561 | Test loss: 0.05767\n",
      "Epoch: 1660 | Train loss: 0.12963 | Test loss: 0.02535\n",
      "Epoch: 1670 | Train loss: 0.14160 | Test loss: 0.00168\n",
      "Epoch: 1680 | Train loss: 0.12403 | Test loss: 0.03828\n",
      "Epoch: 1690 | Train loss: 0.13737 | Test loss: 0.00917\n",
      "Epoch: 1700 | Train loss: 0.11842 | Test loss: 0.05120\n",
      "Epoch: 1710 | Train loss: 0.13244 | Test loss: 0.01889\n",
      "Epoch: 1720 | Train loss: 0.14372 | Test loss: 0.00541\n",
      "Epoch: 1730 | Train loss: 0.12684 | Test loss: 0.03181\n",
      "Epoch: 1740 | Train loss: 0.13949 | Test loss: 0.00431\n",
      "Epoch: 1750 | Train loss: 0.12123 | Test loss: 0.04473\n",
      "Epoch: 1760 | Train loss: 0.13525 | Test loss: 0.01402\n",
      "Epoch: 1770 | Train loss: 0.11562 | Test loss: 0.05766\n",
      "Epoch: 1780 | Train loss: 0.12964 | Test loss: 0.02535\n",
      "Epoch: 1790 | Train loss: 0.14161 | Test loss: 0.00168\n",
      "Epoch: 1800 | Train loss: 0.12404 | Test loss: 0.03827\n",
      "Epoch: 1810 | Train loss: 0.13738 | Test loss: 0.00916\n",
      "Epoch: 1820 | Train loss: 0.11843 | Test loss: 0.05119\n",
      "Epoch: 1830 | Train loss: 0.13245 | Test loss: 0.01888\n",
      "Epoch: 1840 | Train loss: 0.14373 | Test loss: 0.00542\n",
      "Epoch: 1850 | Train loss: 0.12685 | Test loss: 0.03180\n",
      "Epoch: 1860 | Train loss: 0.13950 | Test loss: 0.00429\n",
      "Epoch: 1870 | Train loss: 0.12124 | Test loss: 0.04472\n",
      "Epoch: 1880 | Train loss: 0.13526 | Test loss: 0.01401\n",
      "Epoch: 1890 | Train loss: 0.11563 | Test loss: 0.05764\n",
      "Epoch: 1900 | Train loss: 0.12965 | Test loss: 0.02533\n",
      "Epoch: 1910 | Train loss: 0.14162 | Test loss: 0.00169\n",
      "Epoch: 1920 | Train loss: 0.12405 | Test loss: 0.03826\n",
      "Epoch: 1930 | Train loss: 0.13739 | Test loss: 0.00915\n",
      "Epoch: 1940 | Train loss: 0.11844 | Test loss: 0.05117\n",
      "Epoch: 1950 | Train loss: 0.13246 | Test loss: 0.01886\n",
      "Epoch: 1960 | Train loss: 0.14375 | Test loss: 0.00543\n",
      "Epoch: 1970 | Train loss: 0.12686 | Test loss: 0.03179\n",
      "Epoch: 1980 | Train loss: 0.13951 | Test loss: 0.00428\n",
      "Epoch: 1990 | Train loss: 0.12125 | Test loss: 0.04471\n",
      "Epoch: 2000 | Train loss: 0.13527 | Test loss: 0.01400\n",
      "Epoch: 2010 | Train loss: 0.11564 | Test loss: 0.05763\n",
      "Epoch: 2020 | Train loss: 0.12966 | Test loss: 0.02532\n",
      "Epoch: 2030 | Train loss: 0.14163 | Test loss: 0.00169\n",
      "Epoch: 2040 | Train loss: 0.12406 | Test loss: 0.03824\n",
      "Epoch: 2050 | Train loss: 0.13740 | Test loss: 0.00913\n",
      "Epoch: 2060 | Train loss: 0.11845 | Test loss: 0.05116\n",
      "Epoch: 2070 | Train loss: 0.13247 | Test loss: 0.01885\n",
      "Epoch: 2080 | Train loss: 0.14375 | Test loss: 0.00545\n",
      "Epoch: 2090 | Train loss: 0.12687 | Test loss: 0.03177\n",
      "Epoch: 2100 | Train loss: 0.13952 | Test loss: 0.00427\n",
      "Epoch: 2110 | Train loss: 0.12126 | Test loss: 0.04470\n",
      "Epoch: 2120 | Train loss: 0.13529 | Test loss: 0.01399\n",
      "Epoch: 2130 | Train loss: 0.11565 | Test loss: 0.05762\n",
      "Epoch: 2140 | Train loss: 0.12967 | Test loss: 0.02531\n",
      "Epoch: 2150 | Train loss: 0.14164 | Test loss: 0.00169\n",
      "Epoch: 2160 | Train loss: 0.12407 | Test loss: 0.03823\n",
      "Epoch: 2170 | Train loss: 0.13741 | Test loss: 0.00912\n",
      "Epoch: 2180 | Train loss: 0.11846 | Test loss: 0.05115\n",
      "Epoch: 2190 | Train loss: 0.13248 | Test loss: 0.01884\n",
      "Epoch: 2200 | Train loss: 0.14376 | Test loss: 0.00546\n",
      "Epoch: 2210 | Train loss: 0.12687 | Test loss: 0.03176\n",
      "Epoch: 2220 | Train loss: 0.13953 | Test loss: 0.00425\n",
      "Epoch: 2230 | Train loss: 0.12127 | Test loss: 0.04468\n",
      "Epoch: 2240 | Train loss: 0.13530 | Test loss: 0.01397\n",
      "Epoch: 2250 | Train loss: 0.11566 | Test loss: 0.05761\n",
      "Epoch: 2260 | Train loss: 0.12968 | Test loss: 0.02529\n",
      "Epoch: 2270 | Train loss: 0.14165 | Test loss: 0.00169\n",
      "Epoch: 2280 | Train loss: 0.12408 | Test loss: 0.03822\n",
      "Epoch: 2290 | Train loss: 0.13742 | Test loss: 0.00911\n",
      "Epoch: 2300 | Train loss: 0.11847 | Test loss: 0.05114\n",
      "Epoch: 2310 | Train loss: 0.13249 | Test loss: 0.01883\n",
      "Epoch: 2320 | Train loss: 0.14378 | Test loss: 0.00548\n",
      "Epoch: 2330 | Train loss: 0.12688 | Test loss: 0.03175\n",
      "Epoch: 2340 | Train loss: 0.13954 | Test loss: 0.00425\n",
      "Epoch: 2350 | Train loss: 0.12128 | Test loss: 0.04467\n",
      "Epoch: 2360 | Train loss: 0.13530 | Test loss: 0.01396\n",
      "Epoch: 2370 | Train loss: 0.11567 | Test loss: 0.05760\n",
      "Epoch: 2380 | Train loss: 0.12969 | Test loss: 0.02528\n",
      "Epoch: 2390 | Train loss: 0.14166 | Test loss: 0.00169\n",
      "Epoch: 2400 | Train loss: 0.12409 | Test loss: 0.03821\n",
      "Epoch: 2410 | Train loss: 0.13743 | Test loss: 0.00910\n",
      "Epoch: 2420 | Train loss: 0.11848 | Test loss: 0.05113\n",
      "Epoch: 2430 | Train loss: 0.13250 | Test loss: 0.01882\n",
      "Epoch: 2440 | Train loss: 0.14379 | Test loss: 0.00548\n",
      "Epoch: 2450 | Train loss: 0.12689 | Test loss: 0.03174\n",
      "Epoch: 2460 | Train loss: 0.13955 | Test loss: 0.00423\n",
      "Epoch: 2470 | Train loss: 0.12129 | Test loss: 0.04466\n",
      "Epoch: 2480 | Train loss: 0.13531 | Test loss: 0.01395\n",
      "Epoch: 2490 | Train loss: 0.11568 | Test loss: 0.05758\n",
      "Epoch: 2500 | Train loss: 0.12970 | Test loss: 0.02527\n",
      "Epoch: 2510 | Train loss: 0.14167 | Test loss: 0.00170\n",
      "Epoch: 2520 | Train loss: 0.12410 | Test loss: 0.03820\n",
      "Epoch: 2530 | Train loss: 0.13744 | Test loss: 0.00909\n",
      "Epoch: 2540 | Train loss: 0.11849 | Test loss: 0.05111\n",
      "Epoch: 2550 | Train loss: 0.13251 | Test loss: 0.01880\n",
      "Epoch: 2560 | Train loss: 0.14380 | Test loss: 0.00550\n",
      "Epoch: 2570 | Train loss: 0.12690 | Test loss: 0.03173\n",
      "Epoch: 2580 | Train loss: 0.13956 | Test loss: 0.00422\n",
      "Epoch: 2590 | Train loss: 0.12130 | Test loss: 0.04465\n",
      "Epoch: 2600 | Train loss: 0.13532 | Test loss: 0.01394\n",
      "Epoch: 2610 | Train loss: 0.11569 | Test loss: 0.05757\n",
      "Epoch: 2620 | Train loss: 0.12971 | Test loss: 0.02526\n",
      "Epoch: 2630 | Train loss: 0.14168 | Test loss: 0.00170\n",
      "Epoch: 2640 | Train loss: 0.12411 | Test loss: 0.03818\n",
      "Epoch: 2650 | Train loss: 0.13745 | Test loss: 0.00907\n",
      "Epoch: 2660 | Train loss: 0.11850 | Test loss: 0.05110\n",
      "Epoch: 2670 | Train loss: 0.13252 | Test loss: 0.01879\n",
      "Epoch: 2680 | Train loss: 0.14381 | Test loss: 0.00551\n",
      "Epoch: 2690 | Train loss: 0.12691 | Test loss: 0.03171\n",
      "Epoch: 2700 | Train loss: 0.13957 | Test loss: 0.00421\n",
      "Epoch: 2710 | Train loss: 0.12131 | Test loss: 0.04464\n",
      "Epoch: 2720 | Train loss: 0.13534 | Test loss: 0.01393\n",
      "Epoch: 2730 | Train loss: 0.11570 | Test loss: 0.05756\n",
      "Epoch: 2740 | Train loss: 0.12972 | Test loss: 0.02525\n",
      "Epoch: 2750 | Train loss: 0.14169 | Test loss: 0.00170\n",
      "Epoch: 2760 | Train loss: 0.12412 | Test loss: 0.03817\n",
      "Epoch: 2770 | Train loss: 0.13746 | Test loss: 0.00906\n",
      "Epoch: 2780 | Train loss: 0.11851 | Test loss: 0.05109\n",
      "Epoch: 2790 | Train loss: 0.13253 | Test loss: 0.01878\n",
      "Epoch: 2800 | Train loss: 0.14382 | Test loss: 0.00552\n",
      "Epoch: 2810 | Train loss: 0.12692 | Test loss: 0.03170\n",
      "Epoch: 2820 | Train loss: 0.13958 | Test loss: 0.00419\n",
      "Epoch: 2830 | Train loss: 0.11846 | Test loss: 0.05122\n",
      "Epoch: 2840 | Train loss: 0.13248 | Test loss: 0.01891\n",
      "Epoch: 2850 | Train loss: 0.14376 | Test loss: 0.00540\n",
      "Epoch: 2860 | Train loss: 0.12687 | Test loss: 0.03183\n",
      "Epoch: 2870 | Train loss: 0.13953 | Test loss: 0.00432\n",
      "Epoch: 2880 | Train loss: 0.12126 | Test loss: 0.04475\n",
      "Epoch: 2890 | Train loss: 0.13529 | Test loss: 0.01404\n",
      "Epoch: 2900 | Train loss: 0.11566 | Test loss: 0.05767\n",
      "Epoch: 2910 | Train loss: 0.12968 | Test loss: 0.02536\n",
      "Epoch: 2920 | Train loss: 0.14165 | Test loss: 0.00167\n",
      "Epoch: 2930 | Train loss: 0.12407 | Test loss: 0.03828\n",
      "Epoch: 2940 | Train loss: 0.13741 | Test loss: 0.00918\n",
      "Epoch: 2950 | Train loss: 0.11847 | Test loss: 0.05121\n",
      "Epoch: 2960 | Train loss: 0.13249 | Test loss: 0.01889\n",
      "Epoch: 2970 | Train loss: 0.14377 | Test loss: 0.00540\n",
      "Epoch: 2980 | Train loss: 0.12688 | Test loss: 0.03182\n",
      "Epoch: 2990 | Train loss: 0.13954 | Test loss: 0.00431\n"
     ]
    },
    {
     "data": {
      "image/png": "[encoded data removed]",
      "text/plain": [
       "<Figure size 1500x800 with 1 Axes>"
      ]
     },
     "metadata": {},
     "output_type": "display_data"
    }
   ],
   "source": [
    "epochs=3000\n",
    "x_train=x_train.to(device)\n",
    "y_train=y_train.to(device)\n",
    "x_test=x_test.to(device)\n",
    "y_test=y_test.to(device)\n",
    "for epoch in range(epochs):\n",
    "    model_1.train()\n",
    "    y_pred=model_1(x_train)\n",
    "    loss=loss_fn(y_pred,y_train)\n",
    "    optimizer.zero_grad()\n",
    "    loss.backward()\n",
    "    optimizer.step()\n",
    "    model_1.eval()\n",
    "    with torch.inference_mode():\n",
    "        y_test_pred=model_1(x_test)\n",
    "        test_loss=loss_fn(y_test_pred,y_test)\n",
    "    if epoch % 10 == 0:\n",
    "        print(f\"Epoch: {epoch} | Train loss: {loss:.5f} | Test loss: {test_loss:.5f}\")\n",
    "plt.figure(figsize=(15,8))\n",
    "plt.scatter(x_train.cpu(),y_train.cpu(),c=\"blue\",s=4,label=\"train\")\n",
    "plt.scatter(x_test.cpu(),y_test.cpu(),c=\"orange\",s=4,label=\"test\")\n",
    "plt.scatter(x_test.cpu(),y_test_pred.cpu(),c=\"red\",s=4,label=\"pred\")\n",
    "plt.legend(prop={\"size\":15})\n",
    "plt.show()\n"
   ]
  },
  {
   "cell_type": "code",
   "execution_count": 127,
   "id": "7e3fcea4",
   "metadata": {},
   "outputs": [
    {
     "name": "stdout",
     "output_type": "stream",
     "text": [
      "OrderedDict({'linear_layer.weight': tensor([[0.2996]]), 'linear_layer.bias': tensor([0.8286])})\n"
     ]
    }
   ],
   "source": [
    "#save and load the model\n",
    "from pathlib import Path\n",
    "mode_path=Path(\"models\")\n",
    "mode_path.mkdir(parents=True,exist_ok=True)\n",
    "model_1_save_path=mode_path/\"model_1.pth\"\n",
    "torch.save(obj=model_1.state_dict(),f=model_1_save_path)\n",
    "model_1_load=linearlayermodel()\n",
    "model_1_load.load_state_dict(torch.load(model_1_save_path))\n",
    "print(model_1_load.state_dict())\n"
   ]
  },
  {
   "cell_type": "code",
   "execution_count": null,
   "id": "8a199334",
   "metadata": {},
   "outputs": [],
   "source": []
  }
 ],
 "metadata": {
  "kernelspec": {
   "display_name": "myenv",
   "language": "python",
   "name": "python3"
  },
  "language_info": {
   "codemirror_mode": {
    "name": "ipython",
    "version": 3
   },
   "file_extension": ".py",
   "mimetype": "text/x-python",
   "name": "python",
   "nbconvert_exporter": "python",
   "pygments_lexer": "ipython3",
   "version": "3.13.3"
  }
 },
 "nbformat": 4,
 "nbformat_minor": 5
}
