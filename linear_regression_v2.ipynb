{
 "cells": [
  {
   "cell_type": "code",
   "execution_count": 2,
   "id": "769397db",
   "metadata": {},
   "outputs": [],
   "source": [
    "import torch\n",
    "from torch import nn\n",
    "import matplotlib.pyplot as plt"
   ]
  },
  {
   "cell_type": "code",
   "execution_count": 3,
   "id": "2585c483",
   "metadata": {},
   "outputs": [
    {
     "name": "stdout",
     "output_type": "stream",
     "text": [
      "System stats\n",
      "2.7.1+cu128\n",
      "device: cpu\n"
     ]
    },
    {
     "name": "stderr",
     "output_type": "stream",
     "text": [
      "/media/mo/DE3C28533C28294B/pytorch-learning/linear-regression/myenv/lib/python3.13/site-packages/torch/cuda/__init__.py:174: UserWarning: CUDA initialization: CUDA unknown error - this may be due to an incorrectly set up environment, e.g. changing env variable CUDA_VISIBLE_DEVICES after program start. Setting the available devices to be zero. (Triggered internally at /pytorch/c10/cuda/CUDAFunctions.cpp:109.)\n",
      "  return torch._C._cuda_getDeviceCount() > 0\n"
     ]
    }
   ],
   "source": [
    "print(f\"System stats\")\n",
    "print(torch.__version__)\n",
    "device = \"cuda\" if(torch.cuda.is_available()) else \"cpu\"\n",
    "print(f\"device: {device}\")"
   ]
  },
  {
   "cell_type": "code",
   "execution_count": 4,
   "id": "2935c7b6",
   "metadata": {},
   "outputs": [],
   "source": [
    "#Create data\n",
    "weight=.3\n",
    "bias=.8\n",
    "X=torch.arange(1,1000,10).unsqueeze(dim=1).float()\n",
    "y=X*weight+bias"
   ]
  },
  {
   "cell_type": "code",
   "execution_count": 5,
   "id": "2ab339da",
   "metadata": {},
   "outputs": [
    {
     "name": "stdout",
     "output_type": "stream",
     "text": [
      "dataset stats\n",
      " Number of train: 80 \n",
      " Number of test 20 \n",
      " Total: 100\n"
     ]
    }
   ],
   "source": [
    "#split training and testing data\n",
    "x_train,y_train=X[:int(len(X)*.8)],y[:int(len(X)*.8)]\n",
    "x_test,y_test=X[int(len(X)*.8):],y[int(len(X)*.8):]\n",
    "print(f\"dataset stats\\n Number of train: {len(x_train)} \\n Number of test {len(x_test)} \\n Total: {len(X)}\")"
   ]
  },
  {
   "cell_type": "code",
   "execution_count": 6,
   "id": "6acf859c",
   "metadata": {},
   "outputs": [
    {
     "data": {
      "text/plain": [
       "<matplotlib.legend.Legend at 0x74acec4dc830>"
      ]
     },
     "execution_count": 6,
     "metadata": {},
     "output_type": "execute_result"
    },
    {
     "data": {
      "image/png": "[encoded data removed]",
      "text/plain": [
       "<Figure size 1500x800 with 1 Axes>"
      ]
     },
     "metadata": {},
     "output_type": "display_data"
    }
   ],
   "source": [
    "plt.figure(figsize=(15,8))\n",
    "plt.scatter(x_train,y_train,c=\"blue\",s=4,label=\"train\")\n",
    "plt.scatter(x_test,y_test,c=\"orange\",s=4,label=\"test\")\n",
    "plt.legend(prop={\"size\":15})\n"
   ]
  },
  {
   "cell_type": "code",
   "execution_count": 7,
   "id": "367c967f",
   "metadata": {},
   "outputs": [
    {
     "data": {
      "text/plain": [
       "(linearlayermodel(\n",
       "   (linear_layer): Linear(in_features=1, out_features=1, bias=True)\n",
       " ),\n",
       " OrderedDict([('linear_layer.weight', tensor([[-0.7920]])),\n",
       "              ('linear_layer.bias', tensor([-0.8148]))]))"
      ]
     },
     "execution_count": 7,
     "metadata": {},
     "output_type": "execute_result"
    }
   ],
   "source": [
    "class linearlayermodel(nn.Module):\n",
    "    def __init__(self):\n",
    "        super().__init__()\n",
    "        self.linear_layer=nn.Linear(in_features=1,\n",
    "           \n",
    "                               out_features=1)\n",
    "    def forward(self,X:torch.Tensor):\n",
    "        return self.linear_layer(X)\n",
    "\n",
    "model_1=linearlayermodel()\n",
    "model_1,model_1.state_dict()"
   ]
  },
  {
   "cell_type": "code",
   "execution_count": 8,
   "id": "2aaac77a",
   "metadata": {},
   "outputs": [
    {
     "name": "stdout",
     "output_type": "stream",
     "text": [
      "cpu\n",
      "cpu\n"
     ]
    }
   ],
   "source": [
    "print(list(model_1.parameters())[0].device)\n",
    "\n",
    "print(next(model_1.parameters()).device)"
   ]
  },
  {
   "cell_type": "code",
   "execution_count": 9,
   "id": "8cb107d2",
   "metadata": {},
   "outputs": [
    {
     "data": {
      "text/plain": [
       "device(type='cpu')"
      ]
     },
     "execution_count": 9,
     "metadata": {},
     "output_type": "execute_result"
    }
   ],
   "source": [
    "model_1.to(device)\n",
    "next(model_1.parameters()).device"
   ]
  },
  {
   "cell_type": "code",
   "execution_count": 10,
   "id": "891c0d25",
   "metadata": {},
   "outputs": [],
   "source": [
    "loss_fn=nn.L1Loss()\n",
    "optimizer = torch.optim.SGD(params=model_1.parameters(), lr=0.000001)\n",
    "#loss_fn=nn.MSELoss()\n"
   ]
  },
  {
   "cell_type": "code",
   "execution_count": 11,
   "id": "a2ecd2fb",
   "metadata": {},
   "outputs": [
    {
     "data": {
      "text/plain": [
       "<torch._C.Generator at 0x74ae19cb9990>"
      ]
     },
     "execution_count": 11,
     "metadata": {},
     "output_type": "execute_result"
    }
   ],
   "source": [
    "torch.manual_seed(42)\n"
   ]
  },
  {
   "cell_type": "code",
   "execution_count": 12,
   "id": "ea39ea59",
   "metadata": {},
   "outputs": [
    {
     "name": "stdout",
     "output_type": "stream",
     "text": [
      "Epoch: 0 | Train loss: 434.06378 | Test loss: 979.73047\n",
      "Epoch: 10 | Train loss: 432.49554 | Test loss: 976.18201\n",
      "Epoch: 20 | Train loss: 430.92734 | Test loss: 972.63379\n",
      "Epoch: 30 | Train loss: 429.35913 | Test loss: 969.08557\n",
      "Epoch: 40 | Train loss: 427.79086 | Test loss: 965.53711\n",
      "Epoch: 50 | Train loss: 426.22266 | Test loss: 961.98895\n",
      "Epoch: 60 | Train loss: 424.65448 | Test loss: 958.44061\n",
      "Epoch: 70 | Train loss: 423.08624 | Test loss: 954.89246\n",
      "Epoch: 80 | Train loss: 421.51797 | Test loss: 951.34393\n",
      "Epoch: 90 | Train loss: 419.94977 | Test loss: 947.79572\n",
      "Epoch: 100 | Train loss: 418.38153 | Test loss: 944.24744\n",
      "Epoch: 110 | Train loss: 416.81332 | Test loss: 940.69934\n",
      "Epoch: 120 | Train loss: 415.24512 | Test loss: 937.15088\n",
      "Epoch: 130 | Train loss: 413.67691 | Test loss: 933.60266\n",
      "Epoch: 140 | Train loss: 412.10864 | Test loss: 930.05438\n",
      "Epoch: 150 | Train loss: 410.54044 | Test loss: 926.50604\n",
      "Epoch: 160 | Train loss: 408.97223 | Test loss: 922.95782\n",
      "Epoch: 170 | Train loss: 407.40399 | Test loss: 919.40948\n",
      "Epoch: 180 | Train loss: 405.83578 | Test loss: 915.86121\n",
      "Epoch: 190 | Train loss: 404.26752 | Test loss: 912.31287\n",
      "Epoch: 200 | Train loss: 402.69931 | Test loss: 908.76453\n",
      "Epoch: 210 | Train loss: 401.13110 | Test loss: 905.21631\n",
      "Epoch: 220 | Train loss: 399.56290 | Test loss: 901.66797\n",
      "Epoch: 230 | Train loss: 397.99469 | Test loss: 898.11975\n",
      "Epoch: 240 | Train loss: 396.42645 | Test loss: 894.57147\n",
      "Epoch: 250 | Train loss: 394.85822 | Test loss: 891.02313\n",
      "Epoch: 260 | Train loss: 393.29001 | Test loss: 887.47479\n",
      "Epoch: 270 | Train loss: 391.72177 | Test loss: 883.92657\n",
      "Epoch: 280 | Train loss: 390.15356 | Test loss: 880.37830\n",
      "Epoch: 290 | Train loss: 388.58533 | Test loss: 876.82996\n",
      "Epoch: 300 | Train loss: 387.01709 | Test loss: 873.28174\n",
      "Epoch: 310 | Train loss: 385.44888 | Test loss: 869.73352\n",
      "Epoch: 320 | Train loss: 383.88068 | Test loss: 866.18518\n",
      "Epoch: 330 | Train loss: 382.31244 | Test loss: 862.63672\n",
      "Epoch: 340 | Train loss: 380.74420 | Test loss: 859.08856\n",
      "Epoch: 350 | Train loss: 379.17596 | Test loss: 855.54022\n",
      "Epoch: 360 | Train loss: 377.60776 | Test loss: 851.99200\n",
      "Epoch: 370 | Train loss: 376.03952 | Test loss: 848.44373\n",
      "Epoch: 380 | Train loss: 374.47128 | Test loss: 844.89532\n",
      "Epoch: 390 | Train loss: 372.90305 | Test loss: 841.34705\n",
      "Epoch: 400 | Train loss: 371.33487 | Test loss: 837.79883\n",
      "Epoch: 410 | Train loss: 369.76666 | Test loss: 834.25049\n",
      "Epoch: 420 | Train loss: 368.19843 | Test loss: 830.70227\n",
      "Epoch: 430 | Train loss: 366.63022 | Test loss: 827.15399\n",
      "Epoch: 440 | Train loss: 365.06198 | Test loss: 823.60565\n",
      "Epoch: 450 | Train loss: 363.49374 | Test loss: 820.05743\n",
      "Epoch: 460 | Train loss: 361.92554 | Test loss: 816.50909\n",
      "Epoch: 470 | Train loss: 360.35733 | Test loss: 812.96075\n",
      "Epoch: 480 | Train loss: 358.78912 | Test loss: 809.41254\n",
      "Epoch: 490 | Train loss: 357.22089 | Test loss: 805.86420\n",
      "Epoch: 500 | Train loss: 355.65265 | Test loss: 802.31592\n",
      "Epoch: 510 | Train loss: 354.08441 | Test loss: 798.76764\n",
      "Epoch: 520 | Train loss: 352.51620 | Test loss: 795.21936\n",
      "Epoch: 530 | Train loss: 350.94794 | Test loss: 791.67108\n",
      "Epoch: 540 | Train loss: 349.37976 | Test loss: 788.12274\n",
      "Epoch: 550 | Train loss: 347.81152 | Test loss: 784.57452\n",
      "Epoch: 560 | Train loss: 346.24332 | Test loss: 781.02618\n",
      "Epoch: 570 | Train loss: 344.67508 | Test loss: 777.47791\n",
      "Epoch: 580 | Train loss: 343.10687 | Test loss: 773.92957\n",
      "Epoch: 590 | Train loss: 341.53864 | Test loss: 770.38135\n",
      "Epoch: 600 | Train loss: 339.97040 | Test loss: 766.83307\n",
      "Epoch: 610 | Train loss: 338.40219 | Test loss: 763.28479\n",
      "Epoch: 620 | Train loss: 336.83395 | Test loss: 759.73645\n",
      "Epoch: 630 | Train loss: 335.26578 | Test loss: 756.18817\n",
      "Epoch: 640 | Train loss: 333.69751 | Test loss: 752.63983\n",
      "Epoch: 650 | Train loss: 332.12930 | Test loss: 749.09161\n",
      "Epoch: 660 | Train loss: 330.56110 | Test loss: 745.54333\n",
      "Epoch: 670 | Train loss: 328.99286 | Test loss: 741.99493\n",
      "Epoch: 680 | Train loss: 327.42462 | Test loss: 738.44672\n",
      "Epoch: 690 | Train loss: 325.85641 | Test loss: 734.89844\n",
      "Epoch: 700 | Train loss: 324.28818 | Test loss: 731.35010\n",
      "Epoch: 710 | Train loss: 322.71997 | Test loss: 727.80188\n",
      "Epoch: 720 | Train loss: 321.15176 | Test loss: 724.25366\n",
      "Epoch: 730 | Train loss: 319.58356 | Test loss: 720.70520\n",
      "Epoch: 740 | Train loss: 318.01529 | Test loss: 717.15704\n",
      "Epoch: 750 | Train loss: 316.44708 | Test loss: 713.60876\n",
      "Epoch: 760 | Train loss: 314.87885 | Test loss: 710.06036\n",
      "Epoch: 770 | Train loss: 313.31061 | Test loss: 706.51215\n",
      "Epoch: 780 | Train loss: 311.74243 | Test loss: 702.96381\n",
      "Epoch: 790 | Train loss: 310.17419 | Test loss: 699.41565\n",
      "Epoch: 800 | Train loss: 308.60596 | Test loss: 695.86725\n",
      "Epoch: 810 | Train loss: 307.03775 | Test loss: 692.31903\n",
      "Epoch: 820 | Train loss: 305.46954 | Test loss: 688.77069\n",
      "Epoch: 830 | Train loss: 303.90131 | Test loss: 685.22235\n",
      "Epoch: 840 | Train loss: 302.33307 | Test loss: 681.67413\n",
      "Epoch: 850 | Train loss: 300.76483 | Test loss: 678.12579\n",
      "Epoch: 860 | Train loss: 299.19659 | Test loss: 674.57758\n",
      "Epoch: 870 | Train loss: 297.62842 | Test loss: 671.02924\n",
      "Epoch: 880 | Train loss: 296.06021 | Test loss: 667.48096\n",
      "Epoch: 890 | Train loss: 294.49200 | Test loss: 663.93268\n",
      "Epoch: 900 | Train loss: 292.92374 | Test loss: 660.38440\n",
      "Epoch: 910 | Train loss: 291.35553 | Test loss: 656.83606\n",
      "Epoch: 920 | Train loss: 289.78729 | Test loss: 653.28778\n",
      "Epoch: 930 | Train loss: 288.21909 | Test loss: 649.73950\n",
      "Epoch: 940 | Train loss: 286.65085 | Test loss: 646.19122\n",
      "Epoch: 950 | Train loss: 285.08264 | Test loss: 642.64294\n",
      "Epoch: 960 | Train loss: 283.51440 | Test loss: 639.09460\n",
      "Epoch: 970 | Train loss: 281.94617 | Test loss: 635.54633\n",
      "Epoch: 980 | Train loss: 280.37799 | Test loss: 631.99805\n",
      "Epoch: 990 | Train loss: 278.80972 | Test loss: 628.44983\n",
      "Epoch: 1000 | Train loss: 277.24152 | Test loss: 624.90149\n",
      "Epoch: 1010 | Train loss: 275.67328 | Test loss: 621.35321\n",
      "Epoch: 1020 | Train loss: 274.10507 | Test loss: 617.80487\n",
      "Epoch: 1030 | Train loss: 272.53683 | Test loss: 614.25665\n",
      "Epoch: 1040 | Train loss: 270.96863 | Test loss: 610.70837\n",
      "Epoch: 1050 | Train loss: 269.40039 | Test loss: 607.16003\n",
      "Epoch: 1060 | Train loss: 267.83215 | Test loss: 603.61176\n",
      "Epoch: 1070 | Train loss: 266.26398 | Test loss: 600.06342\n",
      "Epoch: 1080 | Train loss: 264.69571 | Test loss: 596.51526\n",
      "Epoch: 1090 | Train loss: 263.12750 | Test loss: 592.96686\n",
      "Epoch: 1100 | Train loss: 261.55927 | Test loss: 589.41864\n",
      "Epoch: 1110 | Train loss: 259.99106 | Test loss: 585.87030\n",
      "Epoch: 1120 | Train loss: 258.42285 | Test loss: 582.32196\n",
      "Epoch: 1130 | Train loss: 256.85464 | Test loss: 578.77374\n",
      "Epoch: 1140 | Train loss: 255.28641 | Test loss: 575.22540\n",
      "Epoch: 1150 | Train loss: 253.71817 | Test loss: 571.67719\n",
      "Epoch: 1160 | Train loss: 252.14995 | Test loss: 568.12885\n",
      "Epoch: 1170 | Train loss: 250.58174 | Test loss: 564.58063\n",
      "Epoch: 1180 | Train loss: 249.01352 | Test loss: 561.03235\n",
      "Epoch: 1190 | Train loss: 247.44528 | Test loss: 557.48401\n",
      "Epoch: 1200 | Train loss: 245.87708 | Test loss: 553.93567\n",
      "Epoch: 1210 | Train loss: 244.30884 | Test loss: 550.38739\n",
      "Epoch: 1220 | Train loss: 242.74063 | Test loss: 546.83911\n",
      "Epoch: 1230 | Train loss: 241.17239 | Test loss: 543.29083\n",
      "Epoch: 1240 | Train loss: 239.60416 | Test loss: 539.74255\n",
      "Epoch: 1250 | Train loss: 238.03596 | Test loss: 536.19421\n",
      "Epoch: 1260 | Train loss: 236.46770 | Test loss: 532.64600\n",
      "Epoch: 1270 | Train loss: 234.89951 | Test loss: 529.09772\n",
      "Epoch: 1280 | Train loss: 233.33127 | Test loss: 525.54944\n",
      "Epoch: 1290 | Train loss: 231.76309 | Test loss: 522.00116\n",
      "Epoch: 1300 | Train loss: 230.19482 | Test loss: 518.45282\n",
      "Epoch: 1310 | Train loss: 228.62662 | Test loss: 514.90454\n",
      "Epoch: 1320 | Train loss: 227.05840 | Test loss: 511.35626\n",
      "Epoch: 1330 | Train loss: 225.49019 | Test loss: 507.80795\n",
      "Epoch: 1340 | Train loss: 223.92197 | Test loss: 504.25961\n",
      "Epoch: 1350 | Train loss: 222.35371 | Test loss: 500.71136\n",
      "Epoch: 1360 | Train loss: 220.78552 | Test loss: 497.16309\n",
      "Epoch: 1370 | Train loss: 219.21729 | Test loss: 493.61484\n",
      "Epoch: 1380 | Train loss: 217.64912 | Test loss: 490.06671\n",
      "Epoch: 1390 | Train loss: 216.08096 | Test loss: 486.51849\n",
      "Epoch: 1400 | Train loss: 214.51279 | Test loss: 482.97037\n",
      "Epoch: 1410 | Train loss: 212.94463 | Test loss: 479.42221\n",
      "Epoch: 1420 | Train loss: 211.37650 | Test loss: 475.87402\n",
      "Epoch: 1430 | Train loss: 209.80830 | Test loss: 472.32587\n",
      "Epoch: 1440 | Train loss: 208.24014 | Test loss: 468.77777\n",
      "Epoch: 1450 | Train loss: 206.67197 | Test loss: 465.22964\n",
      "Epoch: 1460 | Train loss: 205.10381 | Test loss: 461.68140\n",
      "Epoch: 1470 | Train loss: 203.53568 | Test loss: 458.13324\n",
      "Epoch: 1480 | Train loss: 201.96750 | Test loss: 454.58511\n",
      "Epoch: 1490 | Train loss: 200.39932 | Test loss: 451.03702\n",
      "Epoch: 1500 | Train loss: 198.83116 | Test loss: 447.48883\n",
      "Epoch: 1510 | Train loss: 197.26302 | Test loss: 443.94061\n",
      "Epoch: 1520 | Train loss: 195.69484 | Test loss: 440.39249\n",
      "Epoch: 1530 | Train loss: 194.12666 | Test loss: 436.84433\n",
      "Epoch: 1540 | Train loss: 192.55852 | Test loss: 433.29620\n",
      "Epoch: 1550 | Train loss: 190.99036 | Test loss: 429.74799\n",
      "Epoch: 1560 | Train loss: 189.42218 | Test loss: 426.19989\n",
      "Epoch: 1570 | Train loss: 187.85400 | Test loss: 422.65170\n",
      "Epoch: 1580 | Train loss: 186.28586 | Test loss: 419.10358\n",
      "Epoch: 1590 | Train loss: 184.71770 | Test loss: 415.55542\n",
      "Epoch: 1600 | Train loss: 183.14954 | Test loss: 412.00723\n",
      "Epoch: 1610 | Train loss: 181.58134 | Test loss: 408.45914\n",
      "Epoch: 1620 | Train loss: 180.01320 | Test loss: 404.91095\n",
      "Epoch: 1630 | Train loss: 178.44504 | Test loss: 401.36279\n",
      "Epoch: 1640 | Train loss: 176.87686 | Test loss: 397.81464\n",
      "Epoch: 1650 | Train loss: 175.30872 | Test loss: 394.26645\n",
      "Epoch: 1660 | Train loss: 173.74054 | Test loss: 390.71835\n",
      "Epoch: 1670 | Train loss: 172.17239 | Test loss: 387.17017\n",
      "Epoch: 1680 | Train loss: 170.60422 | Test loss: 383.62201\n",
      "Epoch: 1690 | Train loss: 169.03604 | Test loss: 380.07388\n",
      "Epoch: 1700 | Train loss: 167.46790 | Test loss: 376.52573\n",
      "Epoch: 1710 | Train loss: 165.89973 | Test loss: 372.97754\n",
      "Epoch: 1720 | Train loss: 164.33157 | Test loss: 369.42938\n",
      "Epoch: 1730 | Train loss: 162.76340 | Test loss: 365.88126\n",
      "Epoch: 1740 | Train loss: 161.19522 | Test loss: 362.33307\n",
      "Epoch: 1750 | Train loss: 159.62708 | Test loss: 358.78494\n",
      "Epoch: 1760 | Train loss: 158.05893 | Test loss: 355.23676\n",
      "Epoch: 1770 | Train loss: 156.49075 | Test loss: 351.68863\n",
      "Epoch: 1780 | Train loss: 154.92258 | Test loss: 348.14047\n",
      "Epoch: 1790 | Train loss: 153.35443 | Test loss: 344.59232\n",
      "Epoch: 1800 | Train loss: 151.78627 | Test loss: 341.04413\n",
      "Epoch: 1810 | Train loss: 150.21809 | Test loss: 337.49600\n",
      "Epoch: 1820 | Train loss: 148.64992 | Test loss: 333.94781\n",
      "Epoch: 1830 | Train loss: 147.08176 | Test loss: 330.39966\n",
      "Epoch: 1840 | Train loss: 145.51361 | Test loss: 326.85156\n",
      "Epoch: 1850 | Train loss: 143.94542 | Test loss: 323.30334\n",
      "Epoch: 1860 | Train loss: 142.37727 | Test loss: 319.75522\n",
      "Epoch: 1870 | Train loss: 140.80911 | Test loss: 316.20706\n",
      "Epoch: 1880 | Train loss: 139.24095 | Test loss: 312.65887\n",
      "Epoch: 1890 | Train loss: 137.67276 | Test loss: 309.11075\n",
      "Epoch: 1900 | Train loss: 136.10463 | Test loss: 305.56259\n",
      "Epoch: 1910 | Train loss: 134.53647 | Test loss: 302.01447\n",
      "Epoch: 1920 | Train loss: 132.96829 | Test loss: 298.46625\n",
      "Epoch: 1930 | Train loss: 131.40012 | Test loss: 294.91812\n",
      "Epoch: 1940 | Train loss: 129.83195 | Test loss: 291.36990\n",
      "Epoch: 1950 | Train loss: 128.26378 | Test loss: 287.82178\n",
      "Epoch: 1960 | Train loss: 126.69560 | Test loss: 284.27362\n",
      "Epoch: 1970 | Train loss: 125.12744 | Test loss: 280.72543\n",
      "Epoch: 1980 | Train loss: 123.55925 | Test loss: 277.17728\n",
      "Epoch: 1990 | Train loss: 121.99109 | Test loss: 273.62906\n",
      "Epoch: 2000 | Train loss: 120.42293 | Test loss: 270.08093\n",
      "Epoch: 2010 | Train loss: 118.85476 | Test loss: 266.53271\n",
      "Epoch: 2020 | Train loss: 117.28658 | Test loss: 262.98456\n",
      "Epoch: 2030 | Train loss: 115.71841 | Test loss: 259.43640\n",
      "Epoch: 2040 | Train loss: 114.15025 | Test loss: 255.88821\n",
      "Epoch: 2050 | Train loss: 112.58207 | Test loss: 252.34006\n",
      "Epoch: 2060 | Train loss: 111.01389 | Test loss: 248.79187\n",
      "Epoch: 2070 | Train loss: 109.44572 | Test loss: 245.24370\n",
      "Epoch: 2080 | Train loss: 107.87755 | Test loss: 241.69556\n",
      "Epoch: 2090 | Train loss: 106.30940 | Test loss: 238.14737\n",
      "Epoch: 2100 | Train loss: 104.74123 | Test loss: 234.59924\n",
      "Epoch: 2110 | Train loss: 103.17307 | Test loss: 231.05107\n",
      "Epoch: 2120 | Train loss: 101.60490 | Test loss: 227.50293\n",
      "Epoch: 2130 | Train loss: 100.03674 | Test loss: 223.95476\n",
      "Epoch: 2140 | Train loss: 98.46857 | Test loss: 220.40662\n",
      "Epoch: 2150 | Train loss: 96.90042 | Test loss: 216.85844\n",
      "Epoch: 2160 | Train loss: 95.33225 | Test loss: 213.31027\n",
      "Epoch: 2170 | Train loss: 93.76408 | Test loss: 209.76213\n",
      "Epoch: 2180 | Train loss: 92.19592 | Test loss: 206.21396\n",
      "Epoch: 2190 | Train loss: 90.62776 | Test loss: 202.66585\n",
      "Epoch: 2200 | Train loss: 89.05959 | Test loss: 199.11768\n",
      "Epoch: 2210 | Train loss: 87.49144 | Test loss: 195.56953\n",
      "Epoch: 2220 | Train loss: 85.92326 | Test loss: 192.02136\n",
      "Epoch: 2230 | Train loss: 84.35510 | Test loss: 188.47321\n",
      "Epoch: 2240 | Train loss: 82.78694 | Test loss: 184.92505\n",
      "Epoch: 2250 | Train loss: 81.21878 | Test loss: 181.37689\n",
      "Epoch: 2260 | Train loss: 79.65061 | Test loss: 177.82875\n",
      "Epoch: 2270 | Train loss: 78.08245 | Test loss: 174.28059\n",
      "Epoch: 2280 | Train loss: 76.51427 | Test loss: 170.73242\n",
      "Epoch: 2290 | Train loss: 74.94612 | Test loss: 167.18425\n",
      "Epoch: 2300 | Train loss: 73.37795 | Test loss: 163.63611\n",
      "Epoch: 2310 | Train loss: 71.80980 | Test loss: 160.08795\n",
      "Epoch: 2320 | Train loss: 70.24162 | Test loss: 156.53979\n",
      "Epoch: 2330 | Train loss: 68.67347 | Test loss: 152.99165\n",
      "Epoch: 2340 | Train loss: 67.10530 | Test loss: 149.44348\n",
      "Epoch: 2350 | Train loss: 65.53714 | Test loss: 145.89534\n",
      "Epoch: 2360 | Train loss: 63.96897 | Test loss: 142.34718\n",
      "Epoch: 2370 | Train loss: 62.40081 | Test loss: 138.79904\n",
      "Epoch: 2380 | Train loss: 60.83264 | Test loss: 135.25085\n",
      "Epoch: 2390 | Train loss: 59.26448 | Test loss: 131.70271\n",
      "Epoch: 2400 | Train loss: 57.69631 | Test loss: 128.15457\n",
      "Epoch: 2410 | Train loss: 56.12815 | Test loss: 124.60640\n",
      "Epoch: 2420 | Train loss: 54.55999 | Test loss: 121.05823\n",
      "Epoch: 2430 | Train loss: 52.99183 | Test loss: 117.51009\n",
      "Epoch: 2440 | Train loss: 51.42366 | Test loss: 113.96193\n",
      "Epoch: 2450 | Train loss: 49.85550 | Test loss: 110.41377\n",
      "Epoch: 2460 | Train loss: 48.28733 | Test loss: 106.86562\n",
      "Epoch: 2470 | Train loss: 46.71917 | Test loss: 103.31747\n",
      "Epoch: 2480 | Train loss: 45.15101 | Test loss: 99.76930\n",
      "Epoch: 2490 | Train loss: 43.58285 | Test loss: 96.22116\n",
      "Epoch: 2500 | Train loss: 42.01468 | Test loss: 92.67300\n",
      "Epoch: 2510 | Train loss: 40.44652 | Test loss: 89.12483\n",
      "Epoch: 2520 | Train loss: 38.87835 | Test loss: 85.57669\n",
      "Epoch: 2530 | Train loss: 37.31019 | Test loss: 82.02854\n",
      "Epoch: 2540 | Train loss: 35.74203 | Test loss: 78.48037\n",
      "Epoch: 2550 | Train loss: 34.17387 | Test loss: 74.93223\n",
      "Epoch: 2560 | Train loss: 32.60570 | Test loss: 71.38407\n",
      "Epoch: 2570 | Train loss: 31.03754 | Test loss: 67.83591\n",
      "Epoch: 2580 | Train loss: 29.46937 | Test loss: 64.28777\n",
      "Epoch: 2590 | Train loss: 27.90121 | Test loss: 60.73961\n",
      "Epoch: 2600 | Train loss: 26.33305 | Test loss: 57.19144\n",
      "Epoch: 2610 | Train loss: 24.76488 | Test loss: 53.64330\n",
      "Epoch: 2620 | Train loss: 23.19672 | Test loss: 50.09513\n",
      "Epoch: 2630 | Train loss: 21.62856 | Test loss: 46.54697\n",
      "Epoch: 2640 | Train loss: 20.06034 | Test loss: 42.99871\n",
      "Epoch: 2650 | Train loss: 18.49212 | Test loss: 39.45041\n",
      "Epoch: 2660 | Train loss: 16.92390 | Test loss: 35.90212\n",
      "Epoch: 2670 | Train loss: 15.35568 | Test loss: 32.35384\n",
      "Epoch: 2680 | Train loss: 13.78745 | Test loss: 28.80555\n",
      "Epoch: 2690 | Train loss: 12.21923 | Test loss: 25.25727\n",
      "Epoch: 2700 | Train loss: 10.65101 | Test loss: 21.70898\n",
      "Epoch: 2710 | Train loss: 9.08278 | Test loss: 18.16069\n",
      "Epoch: 2720 | Train loss: 7.51457 | Test loss: 14.61240\n",
      "Epoch: 2730 | Train loss: 5.94634 | Test loss: 11.06411\n",
      "Epoch: 2740 | Train loss: 4.37812 | Test loss: 7.51582\n",
      "Epoch: 2750 | Train loss: 2.80990 | Test loss: 3.96753\n",
      "Epoch: 2760 | Train loss: 1.24167 | Test loss: 0.41924\n",
      "Epoch: 2770 | Train loss: 0.67260 | Test loss: 0.92362\n",
      "Epoch: 2780 | Train loss: 0.67240 | Test loss: 0.96314\n",
      "Epoch: 2790 | Train loss: 0.67239 | Test loss: 0.96504\n",
      "Epoch: 2800 | Train loss: 0.67239 | Test loss: 0.95435\n",
      "Epoch: 2810 | Train loss: 0.67241 | Test loss: 0.95623\n",
      "Epoch: 2820 | Train loss: 0.67242 | Test loss: 0.95809\n",
      "Epoch: 2830 | Train loss: 0.67241 | Test loss: 0.95996\n",
      "Epoch: 2840 | Train loss: 0.67240 | Test loss: 0.96183\n",
      "Epoch: 2850 | Train loss: 0.67239 | Test loss: 0.96371\n",
      "Epoch: 2860 | Train loss: 0.67238 | Test loss: 0.96560\n",
      "Epoch: 2870 | Train loss: 0.67238 | Test loss: 0.95492\n",
      "Epoch: 2880 | Train loss: 0.67240 | Test loss: 0.95679\n",
      "Epoch: 2890 | Train loss: 0.67241 | Test loss: 0.95866\n",
      "Epoch: 2900 | Train loss: 0.67240 | Test loss: 0.96053\n",
      "Epoch: 2910 | Train loss: 0.67238 | Test loss: 0.96240\n",
      "Epoch: 2920 | Train loss: 0.67237 | Test loss: 0.96427\n",
      "Epoch: 2930 | Train loss: 0.67236 | Test loss: 0.96614\n",
      "Epoch: 2940 | Train loss: 0.67237 | Test loss: 0.95548\n",
      "Epoch: 2950 | Train loss: 0.67239 | Test loss: 0.95735\n",
      "Epoch: 2960 | Train loss: 0.67239 | Test loss: 0.95922\n",
      "Epoch: 2970 | Train loss: 0.67238 | Test loss: 0.96110\n",
      "Epoch: 2980 | Train loss: 0.67237 | Test loss: 0.96297\n",
      "Epoch: 2990 | Train loss: 0.67236 | Test loss: 0.96484\n"
     ]
    },
    {
     "data": {
      "image/png": "[encoded data removed]",
      "text/plain": [
       "<Figure size 1500x800 with 1 Axes>"
      ]
     },
     "metadata": {},
     "output_type": "display_data"
    }
   ],
   "source": [
    "epochs=3000\n",
    "x_train=x_train.to(device)\n",
    "y_train=y_train.to(device)\n",
    "x_test=x_test.to(device)\n",
    "y_test=y_test.to(device)\n",
    "for epoch in range(epochs):\n",
    "    model_1.train()\n",
    "    y_pred=model_1(x_train)\n",
    "    loss=loss_fn(y_pred,y_train)\n",
    "    optimizer.zero_grad()\n",
    "    loss.backward()\n",
    "    optimizer.step()\n",
    "    model_1.eval()\n",
    "    with torch.inference_mode():\n",
    "        y_test_pred=model_1(x_test)\n",
    "        test_loss=loss_fn(y_test_pred,y_test)\n",
    "    if epoch % 10 == 0:\n",
    "        print(f\"Epoch: {epoch} | Train loss: {loss:.5f} | Test loss: {test_loss:.5f}\")\n",
    "plt.figure(figsize=(15,8))\n",
    "plt.scatter(x_train.cpu(),y_train.cpu(),c=\"blue\",s=4,label=\"train\")\n",
    "plt.scatter(x_test.cpu(),y_test.cpu(),c=\"orange\",s=4,label=\"test\")\n",
    "plt.scatter(x_test.cpu(),y_test_pred.cpu(),c=\"red\",s=4,label=\"pred\")\n",
    "plt.legend(prop={\"size\":15})\n",
    "plt.show()\n"
   ]
  },
  {
   "cell_type": "code",
   "execution_count": 13,
   "id": "7e3fcea4",
   "metadata": {},
   "outputs": [
    {
     "name": "stdout",
     "output_type": "stream",
     "text": [
      "OrderedDict({'linear_layer.weight': tensor([[0.3029]]), 'linear_layer.bias': tensor([-0.8119])})\n"
     ]
    }
   ],
   "source": [
    "#save and load the model\n",
    "from pathlib import Path\n",
    "mode_path=Path(\"models\")\n",
    "mode_path.mkdir(parents=True,exist_ok=True)\n",
    "model_1_save_path=mode_path/\"model_1.pth\"\n",
    "torch.save(obj=model_1.state_dict(),f=model_1_save_path)\n",
    "model_1_load=linearlayermodel()\n",
    "model_1_load.load_state_dict(torch.load(model_1_save_path))\n",
    "print(model_1_load.state_dict())\n"
   ]
  },
  {
   "cell_type": "code",
   "execution_count": null,
   "id": "8a199334",
   "metadata": {},
   "outputs": [],
   "source": []
  }
 ],
 "metadata": {
  "kernelspec": {
   "display_name": "myenv",
   "language": "python",
   "name": "python3"
  },
  "language_info": {
   "codemirror_mode": {
    "name": "ipython",
    "version": 3
   },
   "file_extension": ".py",
   "mimetype": "text/x-python",
   "name": "python",
   "nbconvert_exporter": "python",
   "pygments_lexer": "ipython3",
   "version": "3.13.3"
  }
 },
 "nbformat": 4,
 "nbformat_minor": 5
}
